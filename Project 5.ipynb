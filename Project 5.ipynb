{
 "cells": [
  {
   "cell_type": "markdown",
   "metadata": {},
   "source": [
    "## MISY408- Project 5 (K-means Clustering)"
   ]
  },
  {
   "cell_type": "markdown",
   "metadata": {},
   "source": [
    "The Wine data set consists of 13 different parameters of wine such as Alcohol, Malic, Ash, Alcalinity, Magnesium, Phenols, Flavanoids, Nonflavanoids, Proanthocyanins, Color, Hue, Dilution, and Proline content which was measured for 176 wine samples. These wines were grown in the same region in Italy but derived from different cultivars. In this project you're going to cluster the wines based on Alcohol and Flavanoids."
   ]
  },
  {
   "cell_type": "markdown",
   "metadata": {},
   "source": [
    "**Question 1: Import the required libraries (such as pandas, matplotlib, seaborn) and read the Wine csv file into df dataframe and display first 5 rows of it.**"
   ]
  },
  {
   "cell_type": "code",
   "execution_count": 2,
   "metadata": {},
   "outputs": [
    {
     "data": {
      "text/html": [
       "<div>\n",
       "<style scoped>\n",
       "    .dataframe tbody tr th:only-of-type {\n",
       "        vertical-align: middle;\n",
       "    }\n",
       "\n",
       "    .dataframe tbody tr th {\n",
       "        vertical-align: top;\n",
       "    }\n",
       "\n",
       "    .dataframe thead th {\n",
       "        text-align: right;\n",
       "    }\n",
       "</style>\n",
       "<table border=\"1\" class=\"dataframe\">\n",
       "  <thead>\n",
       "    <tr style=\"text-align: right;\">\n",
       "      <th></th>\n",
       "      <th>Alcohol</th>\n",
       "      <th>Malic_Acid</th>\n",
       "      <th>Ash</th>\n",
       "      <th>Ash_Alcanity</th>\n",
       "      <th>Magnesium</th>\n",
       "      <th>Total_Phenols</th>\n",
       "      <th>Flavanoids</th>\n",
       "      <th>Nonflavanoid_Phenols</th>\n",
       "      <th>Proanthocyanins</th>\n",
       "      <th>Color_Intensity</th>\n",
       "      <th>Hue</th>\n",
       "      <th>OD280</th>\n",
       "      <th>Proline</th>\n",
       "    </tr>\n",
       "  </thead>\n",
       "  <tbody>\n",
       "    <tr>\n",
       "      <th>0</th>\n",
       "      <td>12.37</td>\n",
       "      <td>1.07</td>\n",
       "      <td>2.10</td>\n",
       "      <td>18.5</td>\n",
       "      <td>88</td>\n",
       "      <td>3.52</td>\n",
       "      <td>3.75</td>\n",
       "      <td>0.24</td>\n",
       "      <td>1.95</td>\n",
       "      <td>4.50</td>\n",
       "      <td>1.04</td>\n",
       "      <td>2.77</td>\n",
       "      <td>660</td>\n",
       "    </tr>\n",
       "    <tr>\n",
       "      <th>1</th>\n",
       "      <td>13.82</td>\n",
       "      <td>1.75</td>\n",
       "      <td>2.42</td>\n",
       "      <td>14.0</td>\n",
       "      <td>111</td>\n",
       "      <td>3.88</td>\n",
       "      <td>3.74</td>\n",
       "      <td>0.32</td>\n",
       "      <td>1.87</td>\n",
       "      <td>7.05</td>\n",
       "      <td>1.01</td>\n",
       "      <td>3.26</td>\n",
       "      <td>1190</td>\n",
       "    </tr>\n",
       "    <tr>\n",
       "      <th>2</th>\n",
       "      <td>14.75</td>\n",
       "      <td>1.73</td>\n",
       "      <td>2.39</td>\n",
       "      <td>11.4</td>\n",
       "      <td>91</td>\n",
       "      <td>3.10</td>\n",
       "      <td>3.69</td>\n",
       "      <td>0.43</td>\n",
       "      <td>2.81</td>\n",
       "      <td>5.40</td>\n",
       "      <td>1.25</td>\n",
       "      <td>2.73</td>\n",
       "      <td>1150</td>\n",
       "    </tr>\n",
       "    <tr>\n",
       "      <th>3</th>\n",
       "      <td>13.72</td>\n",
       "      <td>1.43</td>\n",
       "      <td>2.50</td>\n",
       "      <td>16.7</td>\n",
       "      <td>108</td>\n",
       "      <td>3.40</td>\n",
       "      <td>3.67</td>\n",
       "      <td>0.19</td>\n",
       "      <td>2.04</td>\n",
       "      <td>6.80</td>\n",
       "      <td>0.89</td>\n",
       "      <td>2.87</td>\n",
       "      <td>1285</td>\n",
       "    </tr>\n",
       "    <tr>\n",
       "      <th>4</th>\n",
       "      <td>14.38</td>\n",
       "      <td>1.87</td>\n",
       "      <td>2.38</td>\n",
       "      <td>12.0</td>\n",
       "      <td>102</td>\n",
       "      <td>3.30</td>\n",
       "      <td>3.64</td>\n",
       "      <td>0.29</td>\n",
       "      <td>2.96</td>\n",
       "      <td>7.50</td>\n",
       "      <td>1.20</td>\n",
       "      <td>3.00</td>\n",
       "      <td>1547</td>\n",
       "    </tr>\n",
       "  </tbody>\n",
       "</table>\n",
       "</div>"
      ],
      "text/plain": [
       "   Alcohol  Malic_Acid   Ash  Ash_Alcanity  Magnesium  Total_Phenols  \\\n",
       "0    12.37        1.07  2.10          18.5         88           3.52   \n",
       "1    13.82        1.75  2.42          14.0        111           3.88   \n",
       "2    14.75        1.73  2.39          11.4         91           3.10   \n",
       "3    13.72        1.43  2.50          16.7        108           3.40   \n",
       "4    14.38        1.87  2.38          12.0        102           3.30   \n",
       "\n",
       "   Flavanoids  Nonflavanoid_Phenols  Proanthocyanins  Color_Intensity   Hue  \\\n",
       "0        3.75                  0.24             1.95             4.50  1.04   \n",
       "1        3.74                  0.32             1.87             7.05  1.01   \n",
       "2        3.69                  0.43             2.81             5.40  1.25   \n",
       "3        3.67                  0.19             2.04             6.80  0.89   \n",
       "4        3.64                  0.29             2.96             7.50  1.20   \n",
       "\n",
       "   OD280  Proline  \n",
       "0   2.77      660  \n",
       "1   3.26     1190  \n",
       "2   2.73     1150  \n",
       "3   2.87     1285  \n",
       "4   3.00     1547  "
      ]
     },
     "execution_count": 2,
     "metadata": {},
     "output_type": "execute_result"
    }
   ],
   "source": [
    "import pandas as pd\n",
    "import matplotlib.pyplot as plt\n",
    "import seaborn as sns\n",
    "%matplotlib inline\n",
    "\n",
    "df = pd.read_csv('Wine.csv')\n",
    "df.head()"
   ]
  },
  {
   "cell_type": "markdown",
   "metadata": {},
   "source": [
    "**Question 2: Exploratory data analysis.**\n",
    "\n",
    "* check the shape of dataset     "
   ]
  },
  {
   "cell_type": "code",
   "execution_count": 3,
   "metadata": {},
   "outputs": [
    {
     "data": {
      "text/plain": [
       "(176, 13)"
      ]
     },
     "execution_count": 3,
     "metadata": {},
     "output_type": "execute_result"
    }
   ],
   "source": [
    "df.shape"
   ]
  },
  {
   "cell_type": "markdown",
   "metadata": {},
   "source": [
    "* View the statistical summary of numerical variables (describe())"
   ]
  },
  {
   "cell_type": "code",
   "execution_count": 4,
   "metadata": {},
   "outputs": [
    {
     "data": {
      "text/html": [
       "<div>\n",
       "<style scoped>\n",
       "    .dataframe tbody tr th:only-of-type {\n",
       "        vertical-align: middle;\n",
       "    }\n",
       "\n",
       "    .dataframe tbody tr th {\n",
       "        vertical-align: top;\n",
       "    }\n",
       "\n",
       "    .dataframe thead th {\n",
       "        text-align: right;\n",
       "    }\n",
       "</style>\n",
       "<table border=\"1\" class=\"dataframe\">\n",
       "  <thead>\n",
       "    <tr style=\"text-align: right;\">\n",
       "      <th></th>\n",
       "      <th>count</th>\n",
       "      <th>mean</th>\n",
       "      <th>std</th>\n",
       "      <th>min</th>\n",
       "      <th>25%</th>\n",
       "      <th>50%</th>\n",
       "      <th>75%</th>\n",
       "      <th>max</th>\n",
       "    </tr>\n",
       "  </thead>\n",
       "  <tbody>\n",
       "    <tr>\n",
       "      <th>Alcohol</th>\n",
       "      <td>176.0</td>\n",
       "      <td>13.002045</td>\n",
       "      <td>0.804145</td>\n",
       "      <td>11.03</td>\n",
       "      <td>12.3675</td>\n",
       "      <td>13.050</td>\n",
       "      <td>13.6725</td>\n",
       "      <td>14.83</td>\n",
       "    </tr>\n",
       "    <tr>\n",
       "      <th>Malic_Acid</th>\n",
       "      <td>176.0</td>\n",
       "      <td>2.342216</td>\n",
       "      <td>1.121870</td>\n",
       "      <td>0.74</td>\n",
       "      <td>1.6075</td>\n",
       "      <td>1.865</td>\n",
       "      <td>3.1050</td>\n",
       "      <td>5.80</td>\n",
       "    </tr>\n",
       "    <tr>\n",
       "      <th>Ash</th>\n",
       "      <td>176.0</td>\n",
       "      <td>2.360966</td>\n",
       "      <td>0.267880</td>\n",
       "      <td>1.36</td>\n",
       "      <td>2.2100</td>\n",
       "      <td>2.360</td>\n",
       "      <td>2.5525</td>\n",
       "      <td>3.22</td>\n",
       "    </tr>\n",
       "    <tr>\n",
       "      <th>Ash_Alcanity</th>\n",
       "      <td>176.0</td>\n",
       "      <td>19.460795</td>\n",
       "      <td>3.280905</td>\n",
       "      <td>10.60</td>\n",
       "      <td>17.2000</td>\n",
       "      <td>19.500</td>\n",
       "      <td>21.5000</td>\n",
       "      <td>30.00</td>\n",
       "    </tr>\n",
       "    <tr>\n",
       "      <th>Magnesium</th>\n",
       "      <td>176.0</td>\n",
       "      <td>99.585227</td>\n",
       "      <td>14.275398</td>\n",
       "      <td>70.00</td>\n",
       "      <td>88.0000</td>\n",
       "      <td>98.000</td>\n",
       "      <td>107.0000</td>\n",
       "      <td>162.00</td>\n",
       "    </tr>\n",
       "    <tr>\n",
       "      <th>Total_Phenols</th>\n",
       "      <td>176.0</td>\n",
       "      <td>2.284375</td>\n",
       "      <td>0.621132</td>\n",
       "      <td>0.98</td>\n",
       "      <td>1.7350</td>\n",
       "      <td>2.335</td>\n",
       "      <td>2.8000</td>\n",
       "      <td>3.88</td>\n",
       "    </tr>\n",
       "    <tr>\n",
       "      <th>Flavanoids</th>\n",
       "      <td>176.0</td>\n",
       "      <td>2.001136</td>\n",
       "      <td>0.966694</td>\n",
       "      <td>0.34</td>\n",
       "      <td>1.1750</td>\n",
       "      <td>2.120</td>\n",
       "      <td>2.8075</td>\n",
       "      <td>3.75</td>\n",
       "    </tr>\n",
       "    <tr>\n",
       "      <th>Nonflavanoid_Phenols</th>\n",
       "      <td>176.0</td>\n",
       "      <td>0.361477</td>\n",
       "      <td>0.124855</td>\n",
       "      <td>0.13</td>\n",
       "      <td>0.2675</td>\n",
       "      <td>0.340</td>\n",
       "      <td>0.4325</td>\n",
       "      <td>0.66</td>\n",
       "    </tr>\n",
       "    <tr>\n",
       "      <th>Proanthocyanins</th>\n",
       "      <td>176.0</td>\n",
       "      <td>1.587784</td>\n",
       "      <td>0.574865</td>\n",
       "      <td>0.41</td>\n",
       "      <td>1.2475</td>\n",
       "      <td>1.545</td>\n",
       "      <td>1.9525</td>\n",
       "      <td>3.58</td>\n",
       "    </tr>\n",
       "    <tr>\n",
       "      <th>Color_Intensity</th>\n",
       "      <td>176.0</td>\n",
       "      <td>5.032045</td>\n",
       "      <td>2.313942</td>\n",
       "      <td>1.28</td>\n",
       "      <td>3.2000</td>\n",
       "      <td>4.640</td>\n",
       "      <td>6.2000</td>\n",
       "      <td>13.00</td>\n",
       "    </tr>\n",
       "    <tr>\n",
       "      <th>Hue</th>\n",
       "      <td>176.0</td>\n",
       "      <td>0.956057</td>\n",
       "      <td>0.228935</td>\n",
       "      <td>0.48</td>\n",
       "      <td>0.7800</td>\n",
       "      <td>0.965</td>\n",
       "      <td>1.1200</td>\n",
       "      <td>1.71</td>\n",
       "    </tr>\n",
       "    <tr>\n",
       "      <th>OD280</th>\n",
       "      <td>176.0</td>\n",
       "      <td>2.604375</td>\n",
       "      <td>0.709155</td>\n",
       "      <td>1.27</td>\n",
       "      <td>1.9275</td>\n",
       "      <td>2.780</td>\n",
       "      <td>3.1700</td>\n",
       "      <td>4.00</td>\n",
       "    </tr>\n",
       "    <tr>\n",
       "      <th>Proline</th>\n",
       "      <td>176.0</td>\n",
       "      <td>743.193182</td>\n",
       "      <td>307.988380</td>\n",
       "      <td>278.00</td>\n",
       "      <td>501.5000</td>\n",
       "      <td>673.500</td>\n",
       "      <td>985.0000</td>\n",
       "      <td>1547.00</td>\n",
       "    </tr>\n",
       "  </tbody>\n",
       "</table>\n",
       "</div>"
      ],
      "text/plain": [
       "                      count        mean         std     min       25%  \\\n",
       "Alcohol               176.0   13.002045    0.804145   11.03   12.3675   \n",
       "Malic_Acid            176.0    2.342216    1.121870    0.74    1.6075   \n",
       "Ash                   176.0    2.360966    0.267880    1.36    2.2100   \n",
       "Ash_Alcanity          176.0   19.460795    3.280905   10.60   17.2000   \n",
       "Magnesium             176.0   99.585227   14.275398   70.00   88.0000   \n",
       "Total_Phenols         176.0    2.284375    0.621132    0.98    1.7350   \n",
       "Flavanoids            176.0    2.001136    0.966694    0.34    1.1750   \n",
       "Nonflavanoid_Phenols  176.0    0.361477    0.124855    0.13    0.2675   \n",
       "Proanthocyanins       176.0    1.587784    0.574865    0.41    1.2475   \n",
       "Color_Intensity       176.0    5.032045    2.313942    1.28    3.2000   \n",
       "Hue                   176.0    0.956057    0.228935    0.48    0.7800   \n",
       "OD280                 176.0    2.604375    0.709155    1.27    1.9275   \n",
       "Proline               176.0  743.193182  307.988380  278.00  501.5000   \n",
       "\n",
       "                          50%       75%      max  \n",
       "Alcohol                13.050   13.6725    14.83  \n",
       "Malic_Acid              1.865    3.1050     5.80  \n",
       "Ash                     2.360    2.5525     3.22  \n",
       "Ash_Alcanity           19.500   21.5000    30.00  \n",
       "Magnesium              98.000  107.0000   162.00  \n",
       "Total_Phenols           2.335    2.8000     3.88  \n",
       "Flavanoids              2.120    2.8075     3.75  \n",
       "Nonflavanoid_Phenols    0.340    0.4325     0.66  \n",
       "Proanthocyanins         1.545    1.9525     3.58  \n",
       "Color_Intensity         4.640    6.2000    13.00  \n",
       "Hue                     0.965    1.1200     1.71  \n",
       "OD280                   2.780    3.1700     4.00  \n",
       "Proline               673.500  985.0000  1547.00  "
      ]
     },
     "execution_count": 4,
     "metadata": {},
     "output_type": "execute_result"
    }
   ],
   "source": [
    "df.describe().transpose()"
   ]
  },
  {
   "cell_type": "markdown",
   "metadata": {},
   "source": [
    "* check for null values "
   ]
  },
  {
   "cell_type": "code",
   "execution_count": 5,
   "metadata": {},
   "outputs": [
    {
     "data": {
      "text/plain": [
       "Alcohol                 0\n",
       "Malic_Acid              0\n",
       "Ash                     0\n",
       "Ash_Alcanity            0\n",
       "Magnesium               0\n",
       "Total_Phenols           0\n",
       "Flavanoids              0\n",
       "Nonflavanoid_Phenols    0\n",
       "Proanthocyanins         0\n",
       "Color_Intensity         0\n",
       "Hue                     0\n",
       "OD280                   0\n",
       "Proline                 0\n",
       "dtype: int64"
      ]
     },
     "execution_count": 5,
     "metadata": {},
     "output_type": "execute_result"
    }
   ],
   "source": [
    "df.isnull().sum()"
   ]
  },
  {
   "cell_type": "markdown",
   "metadata": {},
   "source": [
    "* drop duplicates\n",
    "   "
   ]
  },
  {
   "cell_type": "code",
   "execution_count": 6,
   "metadata": {},
   "outputs": [],
   "source": [
    "df.drop_duplicates(inplace=True)"
   ]
  },
  {
   "cell_type": "markdown",
   "metadata": {},
   "source": [
    "* Create histplot with 'kernel density estimate' for Alcohol"
   ]
  },
  {
   "cell_type": "code",
   "execution_count": 7,
   "metadata": {},
   "outputs": [
    {
     "data": {
      "text/plain": [
       "<AxesSubplot:xlabel='Alcohol', ylabel='Count'>"
      ]
     },
     "execution_count": 7,
     "metadata": {},
     "output_type": "execute_result"
    },
    {
     "data": {
      "image/png": "[encoded data removed]",
      "text/plain": [
       "<Figure size 432x288 with 1 Axes>"
      ]
     },
     "metadata": {
      "needs_background": "light"
     },
     "output_type": "display_data"
    }
   ],
   "source": [
    "sns.histplot(df['Alcohol'], kde=True)"
   ]
  },
  {
   "cell_type": "markdown",
   "metadata": {},
   "source": [
    "* Create histplot with 'kernel density estimate' for Flavanoids"
   ]
  },
  {
   "cell_type": "code",
   "execution_count": 8,
   "metadata": {},
   "outputs": [
    {
     "data": {
      "text/plain": [
       "<AxesSubplot:xlabel='Flavanoids', ylabel='Count'>"
      ]
     },
     "execution_count": 8,
     "metadata": {},
     "output_type": "execute_result"
    },
    {
     "data": {
      "image/png": "[encoded data removed]",
      "text/plain": [
       "<Figure size 432x288 with 1 Axes>"
      ]
     },
     "metadata": {
      "needs_background": "light"
     },
     "output_type": "display_data"
    }
   ],
   "source": [
    "sns.histplot(df['Flavanoids'], kde=True)"
   ]
  },
  {
   "cell_type": "markdown",
   "metadata": {},
   "source": [
    "**Question 3: Import required Libraries for K-means clustering**"
   ]
  },
  {
   "cell_type": "code",
   "execution_count": 9,
   "metadata": {},
   "outputs": [],
   "source": [
    "import sklearn\n",
    "import numpy as np\n",
    "from sklearn.cluster import KMeans \n",
    "from sklearn.preprocessing import scale, StandardScaler \n"
   ]
  },
  {
   "cell_type": "markdown",
   "metadata": {},
   "source": [
    "**Question 4: Subset the df dataframe to 'Alcohol' and 'Flavanoids' and get a deep copy of df dataframe and save it in df2**"
   ]
  },
  {
   "cell_type": "code",
   "execution_count": 10,
   "metadata": {},
   "outputs": [],
   "source": [
    "df2 = df[['Alcohol','Flavanoids']].copy()"
   ]
  },
  {
   "cell_type": "markdown",
   "metadata": {},
   "source": [
    "**Question 5: Scale the data and then print the mean and std of scaled data to make sure the data is scaled**"
   ]
  },
  {
   "cell_type": "code",
   "execution_count": 11,
   "metadata": {},
   "outputs": [],
   "source": [
    "scaler = StandardScaler()\n",
    "scaler.fit(df2) \n",
    "scaled_array = scaler.transform(df2)"
   ]
  },
  {
   "cell_type": "code",
   "execution_count": 12,
   "metadata": {},
   "outputs": [
    {
     "name": "stdout",
     "output_type": "stream",
     "text": [
      "Alcohol mean is 0.000000.\n",
      "Alcohol std is 1.000000.\n",
      "Flavanoids mean is 0.000000.\n",
      "Flavanoids std is 1.000000.\n"
     ]
    }
   ],
   "source": [
    "Alcohol_average = np.mean(scaled_array[:,0]) \n",
    "Alcohol_std = np.std(scaled_array[:,0])\n",
    "Flavanoids_average=np.mean(scaled_array[:,1])\n",
    "Flavanoids_std=np.std(scaled_array[:,1])\n",
    "\n",
    "print('Alcohol mean is {:.6f}.'.format(Alcohol_average))\n",
    "print('Alcohol std is {:.6f}.'.format(Alcohol_std))\n",
    "print('Flavanoids mean is {:.6f}.'.format(Flavanoids_average))\n",
    "print('Flavanoids std is {:.6f}.'.format(Flavanoids_std))"
   ]
  },
  {
   "cell_type": "markdown",
   "metadata": {},
   "source": [
    "\n",
    "**Question 6: Identifying the number of optimal clusters**\n",
    "\n",
    "* Type a code to help you to get the number of optimal clusters"
   ]
  },
  {
   "cell_type": "code",
   "execution_count": 13,
   "metadata": {},
   "outputs": [
    {
     "data": {
      "image/png": "[encoded data removed]",
      "text/plain": [
       "<Figure size 432x288 with 1 Axes>"
      ]
     },
     "metadata": {
      "needs_background": "light"
     },
     "output_type": "display_data"
    }
   ],
   "source": [
    "wcss=[] \n",
    "\n",
    "from matplotlib import pyplot as plt\n",
    "\n",
    "for i in range(1, 11): \n",
    "    kmeans = KMeans(n_clusters=i, init = 'k-means++', random_state = 0) \n",
    "    kmeans.fit(scaled_array)\n",
    "    wcss.append(kmeans.inertia_) \n",
    "    \n",
    "    \n",
    "plt.plot(range(1, 11), wcss , 'bx-')\n",
    "plt.xlabel('Number of Clusters')\n",
    "plt.ylabel('Within-Cluster Sum of Square')\n",
    "plt.title('The Elbow Method showing the optimal k')\n",
    "plt.show()"
   ]
  },
  {
   "cell_type": "markdown",
   "metadata": {},
   "source": [
    "* How many clusters do we need for clustering the data in this project?"
   ]
  },
  {
   "cell_type": "markdown",
   "metadata": {},
   "source": [
    "somewhere between 4-5"
   ]
  },
  {
   "cell_type": "markdown",
   "metadata": {},
   "source": [
    "* Explain the reason for choosing certain number of clusters here:"
   ]
  },
  {
   "cell_type": "markdown",
   "metadata": {},
   "source": [
    "It's where the elbow changes and levels out. In this case, it's somewhere between 4-5"
   ]
  },
  {
   "cell_type": "markdown",
   "metadata": {},
   "source": [
    "* Explain why we need to get the number of optimal clusters. Why do not we put each wine in one cluster and create 176 clusters instead?"
   ]
  },
  {
   "cell_type": "markdown",
   "metadata": {},
   "source": [
    "If each person has their own cluster, the result wouldn't tell us anything. It wouldn't make sense since how can you differentiate what each cluster is doing. It would be very difficult to explain exactly what each cluster would be since all the clusters would be next to each other."
   ]
  },
  {
   "cell_type": "markdown",
   "metadata": {},
   "source": [
    "**Question 7: K-means clustering**\n"
   ]
  },
  {
   "cell_type": "markdown",
   "metadata": {},
   "source": [
    "* Explain K-means clustering in your own words? What does it do and how does it work?"
   ]
  },
  {
   "cell_type": "markdown",
   "metadata": {},
   "source": [
    "K-means clustering is a way of grouping similar kinds of items in the form of clusters. It finds the similarities between items and groups them into clusters. We select the value of K using the elbow method. This method works by picking up the range of values and takes the best among them. Once the graph \"elbow\" is seen, that value(s) can be used as possible options for clusters, k. In the graph above, we see that around 4-5 is when the graph begins to level out and if we select one of the numbers, our output in the scatterplot would show the amount of clusters using different colors for each possible cluster. Also, there is a centroid on each of the clusters and that point is used to look at the different possibilities of data of each cluster."
   ]
  },
  {
   "cell_type": "markdown",
   "metadata": {},
   "source": [
    "* Do K-means clustering"
   ]
  },
  {
   "cell_type": "code",
   "execution_count": 14,
   "metadata": {},
   "outputs": [],
   "source": [
    "kmeans = KMeans(n_clusters = 4, init = 'k-means++', random_state = 0) # <-- use this number to get my result\n",
    "kmeans = kmeans.fit(scaled_array) "
   ]
  },
  {
   "cell_type": "markdown",
   "metadata": {},
   "source": [
    "* Identify the coordinates of the unscaled centroids, and store the unscaled centroids in a new dataframe called centroids with centroid_Alcohol and centroid_Flavanoids as column names (Display cetroids dataframe in the output)"
   ]
  },
  {
   "cell_type": "code",
   "execution_count": 15,
   "metadata": {},
   "outputs": [
    {
     "data": {
      "text/plain": [
       "array([[12.14333333,  2.17888889],\n",
       "       [13.733     ,  2.9805    ],\n",
       "       [13.56714286,  0.84892857],\n",
       "       [12.61058824,  0.93941176]])"
      ]
     },
     "execution_count": 15,
     "metadata": {},
     "output_type": "execute_result"
    }
   ],
   "source": [
    "unscaled_centroids = scaler.inverse_transform(kmeans.cluster_centers_)\n",
    "unscaled_centroids"
   ]
  },
  {
   "cell_type": "code",
   "execution_count": 16,
   "metadata": {},
   "outputs": [],
   "source": [
    "centroids = pd.DataFrame({'centroid_Alcohol':unscaled_centroids[:,0],'centroid_Flavanoids':unscaled_centroids[:,1]})"
   ]
  },
  {
   "cell_type": "markdown",
   "metadata": {},
   "source": [
    "* Explain what centroid is in your own words. Why do we need centroids in K-means clustering? "
   ]
  },
  {
   "cell_type": "markdown",
   "metadata": {},
   "source": [
    "The centroid is a point that occurs in the middle of a cluster. It's used to look at the different possibilities of data of each cluster. "
   ]
  },
  {
   "cell_type": "markdown",
   "metadata": {},
   "source": [
    "**Question 8: Store the cluster numbers under label column in the df2 dataframe** (display first 5 rows of df2 dataframe to make sure label column is added)"
   ]
  },
  {
   "cell_type": "code",
   "execution_count": 17,
   "metadata": {},
   "outputs": [
    {
     "data": {
      "text/html": [
       "<div>\n",
       "<style scoped>\n",
       "    .dataframe tbody tr th:only-of-type {\n",
       "        vertical-align: middle;\n",
       "    }\n",
       "\n",
       "    .dataframe tbody tr th {\n",
       "        vertical-align: top;\n",
       "    }\n",
       "\n",
       "    .dataframe thead th {\n",
       "        text-align: right;\n",
       "    }\n",
       "</style>\n",
       "<table border=\"1\" class=\"dataframe\">\n",
       "  <thead>\n",
       "    <tr style=\"text-align: right;\">\n",
       "      <th></th>\n",
       "      <th>Alcohol</th>\n",
       "      <th>Flavanoids</th>\n",
       "      <th>label</th>\n",
       "    </tr>\n",
       "  </thead>\n",
       "  <tbody>\n",
       "    <tr>\n",
       "      <th>0</th>\n",
       "      <td>12.37</td>\n",
       "      <td>3.75</td>\n",
       "      <td>0</td>\n",
       "    </tr>\n",
       "    <tr>\n",
       "      <th>1</th>\n",
       "      <td>13.82</td>\n",
       "      <td>3.74</td>\n",
       "      <td>1</td>\n",
       "    </tr>\n",
       "    <tr>\n",
       "      <th>2</th>\n",
       "      <td>14.75</td>\n",
       "      <td>3.69</td>\n",
       "      <td>1</td>\n",
       "    </tr>\n",
       "    <tr>\n",
       "      <th>3</th>\n",
       "      <td>13.72</td>\n",
       "      <td>3.67</td>\n",
       "      <td>1</td>\n",
       "    </tr>\n",
       "    <tr>\n",
       "      <th>4</th>\n",
       "      <td>14.38</td>\n",
       "      <td>3.64</td>\n",
       "      <td>1</td>\n",
       "    </tr>\n",
       "  </tbody>\n",
       "</table>\n",
       "</div>"
      ],
      "text/plain": [
       "   Alcohol  Flavanoids  label\n",
       "0    12.37        3.75      0\n",
       "1    13.82        3.74      1\n",
       "2    14.75        3.69      1\n",
       "3    13.72        3.67      1\n",
       "4    14.38        3.64      1"
      ]
     },
     "execution_count": 17,
     "metadata": {},
     "output_type": "execute_result"
    }
   ],
   "source": [
    "df2['label'] = kmeans.labels_.astype(int) \n",
    "df2.head(5) "
   ]
  },
  {
   "cell_type": "markdown",
   "metadata": {},
   "source": [
    "**Question 9: Plot the K-means clustering results with scatterplot (matplotlib)**\n",
    "\n",
    "* Color should change with label\n",
    "* Centroids should have red color\n",
    "* Add x label (Alcohol)\n",
    "* Add y label (Flavanoids)\n",
    "* Add title (Clustering with Alcohol and Flavanoids)\n",
    "\n",
    "_Note: you do not need to create your own palette._"
   ]
  },
  {
   "cell_type": "code",
   "execution_count": 18,
   "metadata": {},
   "outputs": [
    {
     "data": {
      "image/png": "[encoded data removed]",
      "text/plain": [
       "<Figure size 432x288 with 1 Axes>"
      ]
     },
     "metadata": {
      "needs_background": "light"
     },
     "output_type": "display_data"
    }
   ],
   "source": [
    "plt.scatter(df2['Alcohol'], df2['Flavanoids'], c=df2['label']) # (x,y,color)\n",
    "plt.scatter(centroids['centroid_Alcohol'], centroids['centroid_Flavanoids'], c='red') # (x,y,color)\n",
    "plt.xlabel('Alcohol')\n",
    "plt.ylabel('Flavanoids')\n",
    "plt.title('Clustering with Alcohol and Flavanoids')\n",
    "\n",
    "plt.show()"
   ]
  },
  {
   "cell_type": "markdown",
   "metadata": {},
   "source": [
    "**Question 10: Interpret the results in detail. What does each cluster tell us?**"
   ]
  },
  {
   "cell_type": "markdown",
   "metadata": {},
   "source": [
    "In the scatter plot above we have found 4 clusters AND 4 centroids represented by the red dot.\n",
    "\n",
    "The 4 clusters represent: groups of Individuals with different Alcohol and the Flavanoids associated with that.\n",
    "\n",
    "The Purple Cluster: Mid to High levels of Flavanoids, Low to Mid Alcohol levels.\n",
    "The Yellow Cluster: Low level of Flavanoids, Low to Mid Alcohol levels.\n",
    "The Green Cluster: Low levels of Flavanoids, High Alcohol levels.\n",
    "The Blue Cluster: High levels of Flavanoids, High Alcohol levels."
   ]
  }
 ],
 "metadata": {
  "kernelspec": {
   "display_name": "Python 3 (ipykernel)",
   "language": "python",
   "name": "python3"
  },
  "language_info": {
   "codemirror_mode": {
    "name": "ipython",
    "version": 3
   },
   "file_extension": ".py",
   "mimetype": "text/x-python",
   "name": "python",
   "nbconvert_exporter": "python",
   "pygments_lexer": "ipython3",
   "version": "3.7.13"
  }
 },
 "nbformat": 4,
 "nbformat_minor": 4
}
