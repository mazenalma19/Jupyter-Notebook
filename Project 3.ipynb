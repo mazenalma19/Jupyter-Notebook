{
 "cells": [
  {
   "cell_type": "markdown",
   "metadata": {},
   "source": [
    "##  Project 3 - MISY408\n",
    "\n"
   ]
  },
  {
   "cell_type": "markdown",
   "metadata": {},
   "source": [
    "**Load the animal_shelter data into df dataframe and display the first 5 rows**"
   ]
  },
  {
   "cell_type": "code",
   "execution_count": 150,
   "metadata": {},
   "outputs": [
    {
     "data": {
      "text/html": [
       "<div>\n",
       "<style scoped>\n",
       "    .dataframe tbody tr th:only-of-type {\n",
       "        vertical-align: middle;\n",
       "    }\n",
       "\n",
       "    .dataframe tbody tr th {\n",
       "        vertical-align: top;\n",
       "    }\n",
       "\n",
       "    .dataframe thead th {\n",
       "        text-align: right;\n",
       "    }\n",
       "</style>\n",
       "<table border=\"1\" class=\"dataframe\">\n",
       "  <thead>\n",
       "    <tr style=\"text-align: right;\">\n",
       "      <th></th>\n",
       "      <th>animal_id</th>\n",
       "      <th>animalType_breed</th>\n",
       "      <th>color</th>\n",
       "      <th>date_of_birth</th>\n",
       "      <th>age_days</th>\n",
       "      <th>age_years</th>\n",
       "      <th>outcome_type</th>\n",
       "      <th>surgery_type</th>\n",
       "      <th>sex</th>\n",
       "      <th>intake_condition</th>\n",
       "      <th>time_in_shelter_days</th>\n",
       "    </tr>\n",
       "  </thead>\n",
       "  <tbody>\n",
       "    <tr>\n",
       "      <th>0</th>\n",
       "      <td>A006100</td>\n",
       "      <td>Dog_Spinone Italiano Mix</td>\n",
       "      <td>Yellow/White</td>\n",
       "      <td>7/9/2007 0:00</td>\n",
       "      <td>3650.0</td>\n",
       "      <td>10 years old</td>\n",
       "      <td>Return to Owner</td>\n",
       "      <td>Neutered</td>\n",
       "      <td>M</td>\n",
       "      <td>Normal</td>\n",
       "      <td>0.588194</td>\n",
       "    </tr>\n",
       "    <tr>\n",
       "      <th>1</th>\n",
       "      <td>A047759</td>\n",
       "      <td>Dog_Dachshund</td>\n",
       "      <td>Tricolor</td>\n",
       "      <td>4/2/2004 0:00</td>\n",
       "      <td>3650.0</td>\n",
       "      <td>10 years old</td>\n",
       "      <td>Transfer</td>\n",
       "      <td>Neutered</td>\n",
       "      <td>Male</td>\n",
       "      <td>Normal</td>\n",
       "      <td>4.970139</td>\n",
       "    </tr>\n",
       "    <tr>\n",
       "      <th>2</th>\n",
       "      <td>A134067</td>\n",
       "      <td>Dog_Shetland Sheepdog</td>\n",
       "      <td>NaN</td>\n",
       "      <td>10/16/1997 0:00</td>\n",
       "      <td>NaN</td>\n",
       "      <td>16 years old</td>\n",
       "      <td>Return to Owner</td>\n",
       "      <td>Neutered</td>\n",
       "      <td>Male</td>\n",
       "      <td>Injured</td>\n",
       "      <td>0.119444</td>\n",
       "    </tr>\n",
       "    <tr>\n",
       "      <th>3</th>\n",
       "      <td>A141142</td>\n",
       "      <td>Dog_Labrador Retriever/Pit Bull</td>\n",
       "      <td>Black/White</td>\n",
       "      <td>6/1/1998 0:00</td>\n",
       "      <td>5475.0</td>\n",
       "      <td>15 years old</td>\n",
       "      <td>Return      to Owner</td>\n",
       "      <td>Spayed</td>\n",
       "      <td>F</td>\n",
       "      <td>Aged</td>\n",
       "      <td>0.870833</td>\n",
       "    </tr>\n",
       "    <tr>\n",
       "      <th>4</th>\n",
       "      <td>A163459</td>\n",
       "      <td>Dog_Miniature Schnauzer Mix</td>\n",
       "      <td>Black/Gray</td>\n",
       "      <td>10/19/1999 0:00</td>\n",
       "      <td>5475.0</td>\n",
       "      <td>15 years old</td>\n",
       "      <td>Return to Owner</td>\n",
       "      <td>Intact</td>\n",
       "      <td>Female</td>\n",
       "      <td>Normal</td>\n",
       "      <td>0.178472</td>\n",
       "    </tr>\n",
       "  </tbody>\n",
       "</table>\n",
       "</div>"
      ],
      "text/plain": [
       "  animal_id                 animalType_breed         color    date_of_birth  \\\n",
       "0   A006100         Dog_Spinone Italiano Mix  Yellow/White    7/9/2007 0:00   \n",
       "1   A047759                    Dog_Dachshund      Tricolor    4/2/2004 0:00   \n",
       "2   A134067            Dog_Shetland Sheepdog           NaN  10/16/1997 0:00   \n",
       "3   A141142  Dog_Labrador Retriever/Pit Bull   Black/White    6/1/1998 0:00   \n",
       "4   A163459      Dog_Miniature Schnauzer Mix    Black/Gray  10/19/1999 0:00   \n",
       "\n",
       "   age_days     age_years          outcome_type surgery_type     sex  \\\n",
       "0    3650.0  10 years old       Return to Owner     Neutered       M   \n",
       "1    3650.0  10 years old              Transfer     Neutered    Male   \n",
       "2       NaN  16 years old       Return to Owner     Neutered    Male   \n",
       "3    5475.0  15 years old  Return      to Owner       Spayed       F   \n",
       "4    5475.0  15 years old       Return to Owner       Intact  Female   \n",
       "\n",
       "  intake_condition  time_in_shelter_days  \n",
       "0           Normal              0.588194  \n",
       "1           Normal              4.970139  \n",
       "2          Injured              0.119444  \n",
       "3             Aged              0.870833  \n",
       "4           Normal              0.178472  "
      ]
     },
     "execution_count": 150,
     "metadata": {},
     "output_type": "execute_result"
    }
   ],
   "source": [
    "import pandas as pb\n",
    "\n",
    "df = pb.read_csv('animal_shelter.csv')\n",
    "df.head()"
   ]
  },
  {
   "cell_type": "markdown",
   "metadata": {},
   "source": [
    "**Question 1:**\n",
    "\n",
    "* Display the shape (number of rows and number of columns) of the dataframe"
   ]
  },
  {
   "cell_type": "code",
   "execution_count": 151,
   "metadata": {},
   "outputs": [
    {
     "data": {
      "text/plain": [
       "(71961, 11)"
      ]
     },
     "execution_count": 151,
     "metadata": {},
     "output_type": "execute_result"
    }
   ],
   "source": [
    "df.shape"
   ]
  },
  {
   "cell_type": "markdown",
   "metadata": {},
   "source": [
    "* Display the list of columns in the df dataframe"
   ]
  },
  {
   "cell_type": "code",
   "execution_count": 152,
   "metadata": {},
   "outputs": [
    {
     "data": {
      "text/plain": [
       "Index(['animal_id', 'animalType_breed', 'color', 'date_of_birth', 'age_days',\n",
       "       'age_years', 'outcome_type', 'surgery_type', 'sex', 'intake_condition',\n",
       "       'time_in_shelter_days'],\n",
       "      dtype='object')"
      ]
     },
     "execution_count": 152,
     "metadata": {},
     "output_type": "execute_result"
    }
   ],
   "source": [
    "df.columns"
   ]
  },
  {
   "cell_type": "markdown",
   "metadata": {},
   "source": [
    "* Create a deep copy of df and save into df1"
   ]
  },
  {
   "cell_type": "code",
   "execution_count": 153,
   "metadata": {},
   "outputs": [],
   "source": [
    "df1 = df.copy()"
   ]
  },
  {
   "cell_type": "markdown",
   "metadata": {},
   "source": [
    "**Question 2: Remove Leading or Trailing Spaces for all columns**"
   ]
  },
  {
   "cell_type": "code",
   "execution_count": 154,
   "metadata": {},
   "outputs": [],
   "source": [
    "df1.columns = df1.columns.str.strip()"
   ]
  },
  {
   "cell_type": "markdown",
   "metadata": {},
   "source": [
    "**Question 3:**\n",
    "* drop 'time_in_shelter_days' column from df1 dataftame"
   ]
  },
  {
   "cell_type": "code",
   "execution_count": 155,
   "metadata": {},
   "outputs": [],
   "source": [
    "df1.drop('time_in_shelter_days',axis=1, inplace= True)"
   ]
  },
  {
   "cell_type": "markdown",
   "metadata": {},
   "source": [
    "* Display the shape (number of rows and number of columns) of  df1 dataframe"
   ]
  },
  {
   "cell_type": "code",
   "execution_count": 156,
   "metadata": {},
   "outputs": [
    {
     "data": {
      "text/plain": [
       "(71961, 10)"
      ]
     },
     "execution_count": 156,
     "metadata": {},
     "output_type": "execute_result"
    }
   ],
   "source": [
    "df1.shape"
   ]
  },
  {
   "cell_type": "markdown",
   "metadata": {},
   "source": [
    "**Question 4: removing duplicate rows**\n",
    "\n",
    "* Remove Duplicate rows from df1 dataframe"
   ]
  },
  {
   "cell_type": "code",
   "execution_count": 157,
   "metadata": {},
   "outputs": [],
   "source": [
    "df1.drop_duplicates(inplace=True)"
   ]
  },
  {
   "cell_type": "markdown",
   "metadata": {},
   "source": [
    "* Display the shape (number of rows and number of columns) of df1 dataframe"
   ]
  },
  {
   "cell_type": "code",
   "execution_count": 158,
   "metadata": {},
   "outputs": [
    {
     "data": {
      "text/plain": [
       "(71957, 10)"
      ]
     },
     "execution_count": 158,
     "metadata": {},
     "output_type": "execute_result"
    }
   ],
   "source": [
    "df1.shape"
   ]
  },
  {
   "cell_type": "markdown",
   "metadata": {},
   "source": [
    "**Question 5: Identifying missing Values**\n",
    "\n",
    "* Show how many missing values we have in each column in df1 dataframe"
   ]
  },
  {
   "cell_type": "code",
   "execution_count": 159,
   "metadata": {},
   "outputs": [
    {
     "data": {
      "text/plain": [
       "animal_id              0\n",
       "animalType_breed       4\n",
       "color                 16\n",
       "date_of_birth          0\n",
       "age_days              12\n",
       "age_years              0\n",
       "outcome_type           6\n",
       "surgery_type          11\n",
       "sex                 6772\n",
       "intake_condition       0\n",
       "dtype: int64"
      ]
     },
     "execution_count": 159,
     "metadata": {},
     "output_type": "execute_result"
    }
   ],
   "source": [
    "df1.isnull().sum()"
   ]
  },
  {
   "cell_type": "markdown",
   "metadata": {},
   "source": [
    "* Replace the missing values in 'age_days' column with mean of 'age_days' using fillna() method."
   ]
  },
  {
   "cell_type": "code",
   "execution_count": 160,
   "metadata": {},
   "outputs": [
    {
     "data": {
      "text/plain": [
       "0        3650.00000\n",
       "1        3650.00000\n",
       "2         768.48387\n",
       "3        5475.00000\n",
       "4        5475.00000\n",
       "            ...    \n",
       "71956      14.00000\n",
       "71957     730.00000\n",
       "71958     365.00000\n",
       "71959     300.00000\n",
       "71960    3650.00000\n",
       "Name: age_days, Length: 71957, dtype: float64"
      ]
     },
     "execution_count": 160,
     "metadata": {},
     "output_type": "execute_result"
    }
   ],
   "source": [
    "df1['age_days'].fillna(df1['age_days'].mean())"
   ]
  },
  {
   "cell_type": "markdown",
   "metadata": {},
   "source": [
    "* Replace the missing values in 'sex' column with 'Unknown' using fillna() method."
   ]
  },
  {
   "cell_type": "code",
   "execution_count": 161,
   "metadata": {},
   "outputs": [],
   "source": [
    "df1['sex'].fillna('Unknown', inplace = True)"
   ]
  },
  {
   "cell_type": "markdown",
   "metadata": {},
   "source": [
    "* Replace the missing value in 'color' column with 'Unknown'"
   ]
  },
  {
   "cell_type": "code",
   "execution_count": 162,
   "metadata": {},
   "outputs": [],
   "source": [
    "df1['color'].fillna('Unknown', inplace = True)"
   ]
  },
  {
   "cell_type": "markdown",
   "metadata": {},
   "source": [
    "* Drop the rows that have missing values in the df1 dataframe"
   ]
  },
  {
   "cell_type": "code",
   "execution_count": 163,
   "metadata": {},
   "outputs": [],
   "source": [
    "df1 = df1.dropna()"
   ]
  },
  {
   "cell_type": "markdown",
   "metadata": {},
   "source": [
    "* Display the shape (number of rows and number of columns) of df1 dataframe"
   ]
  },
  {
   "cell_type": "code",
   "execution_count": 164,
   "metadata": {},
   "outputs": [
    {
     "data": {
      "text/plain": [
       "(71924, 10)"
      ]
     },
     "execution_count": 164,
     "metadata": {},
     "output_type": "execute_result"
    }
   ],
   "source": [
    "df1.shape"
   ]
  },
  {
   "cell_type": "markdown",
   "metadata": {},
   "source": [
    "* Show (again) how many missing values we have in each column in df1 dataframe"
   ]
  },
  {
   "cell_type": "code",
   "execution_count": 165,
   "metadata": {},
   "outputs": [
    {
     "data": {
      "text/plain": [
       "animal_id           0\n",
       "animalType_breed    0\n",
       "color               0\n",
       "date_of_birth       0\n",
       "age_days            0\n",
       "age_years           0\n",
       "outcome_type        0\n",
       "surgery_type        0\n",
       "sex                 0\n",
       "intake_condition    0\n",
       "dtype: int64"
      ]
     },
     "execution_count": 165,
     "metadata": {},
     "output_type": "execute_result"
    }
   ],
   "source": [
    "df1.isnull().sum()"
   ]
  },
  {
   "cell_type": "markdown",
   "metadata": {},
   "source": [
    "**Question 6: Removing redundant spaces in the middle of String**"
   ]
  },
  {
   "cell_type": "markdown",
   "metadata": {},
   "source": [
    "* Display unique values in 'outcome_type' column in df1 dataframe"
   ]
  },
  {
   "cell_type": "code",
   "execution_count": 166,
   "metadata": {},
   "outputs": [
    {
     "data": {
      "text/plain": [
       "array(['Return to Owner', 'Transfer', 'Return      to Owner',\n",
       "       'Return to   Owner', 'Adoption', 'Euthanasia', 'Return   to Owner',\n",
       "       'Died', 'Rto-Adopt', 'Missing', 'Disposal', 'Relocate',\n",
       "       '  Adoption', 'Euthanasia  ', '  Transfer'], dtype=object)"
      ]
     },
     "execution_count": 166,
     "metadata": {},
     "output_type": "execute_result"
    }
   ],
   "source": [
    "df1['outcome_type'].unique()"
   ]
  },
  {
   "cell_type": "markdown",
   "metadata": {},
   "source": [
    "\n",
    "* In the following, type a code to remove redundant space in the middle of String in 'outcome_type' column"
   ]
  },
  {
   "cell_type": "code",
   "execution_count": 167,
   "metadata": {},
   "outputs": [
    {
     "name": "stderr",
     "output_type": "stream",
     "text": [
      "/Users/mazen/opt/anaconda3/envs/MISY408/lib/python3.7/site-packages/ipykernel_launcher.py:1: FutureWarning: The default value of regex will change from True to False in a future version.\n",
      "  \"\"\"Entry point for launching an IPython kernel.\n"
     ]
    }
   ],
   "source": [
    "df1['outcome_type']= df1['outcome_type'].str.replace('\\s+', ' ')"
   ]
  },
  {
   "cell_type": "markdown",
   "metadata": {},
   "source": [
    "* Display unique values in 'outcome_type' column in df1 dataframe to make sure the spaces are removed"
   ]
  },
  {
   "cell_type": "code",
   "execution_count": 168,
   "metadata": {},
   "outputs": [
    {
     "data": {
      "text/plain": [
       "array(['Return to Owner', 'Transfer', 'Adoption', 'Euthanasia', 'Died',\n",
       "       'Rto-Adopt', 'Missing', 'Disposal', 'Relocate', ' Adoption',\n",
       "       'Euthanasia ', ' Transfer'], dtype=object)"
      ]
     },
     "execution_count": 168,
     "metadata": {},
     "output_type": "execute_result"
    }
   ],
   "source": [
    "df1['outcome_type'].unique()"
   ]
  },
  {
   "cell_type": "markdown",
   "metadata": {},
   "source": [
    "**Question 7: Splitting data into two columns**"
   ]
  },
  {
   "cell_type": "markdown",
   "metadata": {},
   "source": [
    "* Split 'animalType_breed' column into two columns: animalType column and breed column"
   ]
  },
  {
   "cell_type": "code",
   "execution_count": 169,
   "metadata": {},
   "outputs": [],
   "source": [
    "df1[['animalType','breed']] = df1['animalType_breed'].str.split('_',expand = True)"
   ]
  },
  {
   "cell_type": "markdown",
   "metadata": {},
   "source": [
    "* Display the first 2 rows of df1 dataframe"
   ]
  },
  {
   "cell_type": "code",
   "execution_count": 170,
   "metadata": {},
   "outputs": [
    {
     "data": {
      "text/html": [
       "<div>\n",
       "<style scoped>\n",
       "    .dataframe tbody tr th:only-of-type {\n",
       "        vertical-align: middle;\n",
       "    }\n",
       "\n",
       "    .dataframe tbody tr th {\n",
       "        vertical-align: top;\n",
       "    }\n",
       "\n",
       "    .dataframe thead th {\n",
       "        text-align: right;\n",
       "    }\n",
       "</style>\n",
       "<table border=\"1\" class=\"dataframe\">\n",
       "  <thead>\n",
       "    <tr style=\"text-align: right;\">\n",
       "      <th></th>\n",
       "      <th>animal_id</th>\n",
       "      <th>animalType_breed</th>\n",
       "      <th>color</th>\n",
       "      <th>date_of_birth</th>\n",
       "      <th>age_days</th>\n",
       "      <th>age_years</th>\n",
       "      <th>outcome_type</th>\n",
       "      <th>surgery_type</th>\n",
       "      <th>sex</th>\n",
       "      <th>intake_condition</th>\n",
       "      <th>animalType</th>\n",
       "      <th>breed</th>\n",
       "    </tr>\n",
       "  </thead>\n",
       "  <tbody>\n",
       "    <tr>\n",
       "      <th>0</th>\n",
       "      <td>A006100</td>\n",
       "      <td>Dog_Spinone Italiano Mix</td>\n",
       "      <td>Yellow/White</td>\n",
       "      <td>7/9/2007 0:00</td>\n",
       "      <td>3650.0</td>\n",
       "      <td>10 years old</td>\n",
       "      <td>Return to Owner</td>\n",
       "      <td>Neutered</td>\n",
       "      <td>M</td>\n",
       "      <td>Normal</td>\n",
       "      <td>Dog</td>\n",
       "      <td>Spinone Italiano Mix</td>\n",
       "    </tr>\n",
       "    <tr>\n",
       "      <th>1</th>\n",
       "      <td>A047759</td>\n",
       "      <td>Dog_Dachshund</td>\n",
       "      <td>Tricolor</td>\n",
       "      <td>4/2/2004 0:00</td>\n",
       "      <td>3650.0</td>\n",
       "      <td>10 years old</td>\n",
       "      <td>Transfer</td>\n",
       "      <td>Neutered</td>\n",
       "      <td>Male</td>\n",
       "      <td>Normal</td>\n",
       "      <td>Dog</td>\n",
       "      <td>Dachshund</td>\n",
       "    </tr>\n",
       "  </tbody>\n",
       "</table>\n",
       "</div>"
      ],
      "text/plain": [
       "  animal_id          animalType_breed         color  date_of_birth  age_days  \\\n",
       "0   A006100  Dog_Spinone Italiano Mix  Yellow/White  7/9/2007 0:00    3650.0   \n",
       "1   A047759             Dog_Dachshund      Tricolor  4/2/2004 0:00    3650.0   \n",
       "\n",
       "      age_years     outcome_type surgery_type   sex intake_condition  \\\n",
       "0  10 years old  Return to Owner     Neutered     M           Normal   \n",
       "1  10 years old         Transfer     Neutered  Male           Normal   \n",
       "\n",
       "  animalType                 breed  \n",
       "0        Dog  Spinone Italiano Mix  \n",
       "1        Dog             Dachshund  "
      ]
     },
     "execution_count": 170,
     "metadata": {},
     "output_type": "execute_result"
    }
   ],
   "source": [
    "df1.head(2)"
   ]
  },
  {
   "cell_type": "markdown",
   "metadata": {},
   "source": [
    "* Drop 'animalType_breed' column from df1 dataframe"
   ]
  },
  {
   "cell_type": "code",
   "execution_count": 171,
   "metadata": {},
   "outputs": [],
   "source": [
    "df1.drop(\"animalType_breed\", axis=1, inplace=True)"
   ]
  },
  {
   "cell_type": "markdown",
   "metadata": {},
   "source": [
    "* Display the first 2 rows of df1 dataframe"
   ]
  },
  {
   "cell_type": "code",
   "execution_count": 172,
   "metadata": {},
   "outputs": [
    {
     "data": {
      "text/html": [
       "<div>\n",
       "<style scoped>\n",
       "    .dataframe tbody tr th:only-of-type {\n",
       "        vertical-align: middle;\n",
       "    }\n",
       "\n",
       "    .dataframe tbody tr th {\n",
       "        vertical-align: top;\n",
       "    }\n",
       "\n",
       "    .dataframe thead th {\n",
       "        text-align: right;\n",
       "    }\n",
       "</style>\n",
       "<table border=\"1\" class=\"dataframe\">\n",
       "  <thead>\n",
       "    <tr style=\"text-align: right;\">\n",
       "      <th></th>\n",
       "      <th>animal_id</th>\n",
       "      <th>animalType_breed</th>\n",
       "      <th>color</th>\n",
       "      <th>date_of_birth</th>\n",
       "      <th>age_days</th>\n",
       "      <th>age_years</th>\n",
       "      <th>outcome_type</th>\n",
       "      <th>surgery_type</th>\n",
       "      <th>sex</th>\n",
       "      <th>intake_condition</th>\n",
       "      <th>time_in_shelter_days</th>\n",
       "    </tr>\n",
       "  </thead>\n",
       "  <tbody>\n",
       "    <tr>\n",
       "      <th>0</th>\n",
       "      <td>A006100</td>\n",
       "      <td>Dog_Spinone Italiano Mix</td>\n",
       "      <td>Yellow/White</td>\n",
       "      <td>7/9/2007 0:00</td>\n",
       "      <td>3650.0</td>\n",
       "      <td>10 years old</td>\n",
       "      <td>Return to Owner</td>\n",
       "      <td>Neutered</td>\n",
       "      <td>M</td>\n",
       "      <td>Normal</td>\n",
       "      <td>0.588194</td>\n",
       "    </tr>\n",
       "    <tr>\n",
       "      <th>1</th>\n",
       "      <td>A047759</td>\n",
       "      <td>Dog_Dachshund</td>\n",
       "      <td>Tricolor</td>\n",
       "      <td>4/2/2004 0:00</td>\n",
       "      <td>3650.0</td>\n",
       "      <td>10 years old</td>\n",
       "      <td>Transfer</td>\n",
       "      <td>Neutered</td>\n",
       "      <td>Male</td>\n",
       "      <td>Normal</td>\n",
       "      <td>4.970139</td>\n",
       "    </tr>\n",
       "  </tbody>\n",
       "</table>\n",
       "</div>"
      ],
      "text/plain": [
       "  animal_id          animalType_breed         color  date_of_birth  age_days  \\\n",
       "0   A006100  Dog_Spinone Italiano Mix  Yellow/White  7/9/2007 0:00    3650.0   \n",
       "1   A047759             Dog_Dachshund      Tricolor  4/2/2004 0:00    3650.0   \n",
       "\n",
       "      age_years     outcome_type surgery_type   sex intake_condition  \\\n",
       "0  10 years old  Return to Owner     Neutered     M           Normal   \n",
       "1  10 years old         Transfer     Neutered  Male           Normal   \n",
       "\n",
       "   time_in_shelter_days  \n",
       "0              0.588194  \n",
       "1              4.970139  "
      ]
     },
     "execution_count": 172,
     "metadata": {},
     "output_type": "execute_result"
    }
   ],
   "source": [
    "df.head(2)"
   ]
  },
  {
   "cell_type": "markdown",
   "metadata": {},
   "source": [
    "**Question 8: Fixing the sex Column**"
   ]
  },
  {
   "cell_type": "markdown",
   "metadata": {},
   "source": [
    "* Show unique values in sex column in df1 dataframe"
   ]
  },
  {
   "cell_type": "code",
   "execution_count": 173,
   "metadata": {},
   "outputs": [
    {
     "data": {
      "text/plain": [
       "array(['M', 'Male', 'F', 'Female', 'Unknown'], dtype=object)"
      ]
     },
     "execution_count": 173,
     "metadata": {},
     "output_type": "execute_result"
    }
   ],
   "source": [
    "df1['sex'].unique()"
   ]
  },
  {
   "cell_type": "markdown",
   "metadata": {},
   "source": [
    "* Create a new column 'sex1' that:\n",
    "    * Sets any Male, or M values to M\n",
    "    * Sets any Female, or F values to F\n",
    "    * Sets Unkown to U"
   ]
  },
  {
   "cell_type": "code",
   "execution_count": 174,
   "metadata": {},
   "outputs": [],
   "source": [
    "df1.loc[(df1['sex'] == 'Male') |  (df1['sex'] == 'M'),'sex1'] = \"M\"\n",
    "df1.loc[(df1['sex'] == 'Female') |  (df1['sex'] == 'F'),'sex1'] = \"F\"\n",
    "df1.loc[(df1['sex'] == 'Unknown') |  (df1['sex'] == 'U'),'sex1'] = \"U\""
   ]
  },
  {
   "cell_type": "markdown",
   "metadata": {},
   "source": [
    "* Display the first 2 rows of df1 dataframe"
   ]
  },
  {
   "cell_type": "code",
   "execution_count": 175,
   "metadata": {},
   "outputs": [
    {
     "data": {
      "text/html": [
       "<div>\n",
       "<style scoped>\n",
       "    .dataframe tbody tr th:only-of-type {\n",
       "        vertical-align: middle;\n",
       "    }\n",
       "\n",
       "    .dataframe tbody tr th {\n",
       "        vertical-align: top;\n",
       "    }\n",
       "\n",
       "    .dataframe thead th {\n",
       "        text-align: right;\n",
       "    }\n",
       "</style>\n",
       "<table border=\"1\" class=\"dataframe\">\n",
       "  <thead>\n",
       "    <tr style=\"text-align: right;\">\n",
       "      <th></th>\n",
       "      <th>animal_id</th>\n",
       "      <th>color</th>\n",
       "      <th>date_of_birth</th>\n",
       "      <th>age_days</th>\n",
       "      <th>age_years</th>\n",
       "      <th>outcome_type</th>\n",
       "      <th>surgery_type</th>\n",
       "      <th>sex</th>\n",
       "      <th>intake_condition</th>\n",
       "      <th>animalType</th>\n",
       "      <th>breed</th>\n",
       "      <th>sex1</th>\n",
       "    </tr>\n",
       "  </thead>\n",
       "  <tbody>\n",
       "    <tr>\n",
       "      <th>0</th>\n",
       "      <td>A006100</td>\n",
       "      <td>Yellow/White</td>\n",
       "      <td>7/9/2007 0:00</td>\n",
       "      <td>3650.0</td>\n",
       "      <td>10 years old</td>\n",
       "      <td>Return to Owner</td>\n",
       "      <td>Neutered</td>\n",
       "      <td>M</td>\n",
       "      <td>Normal</td>\n",
       "      <td>Dog</td>\n",
       "      <td>Spinone Italiano Mix</td>\n",
       "      <td>M</td>\n",
       "    </tr>\n",
       "    <tr>\n",
       "      <th>1</th>\n",
       "      <td>A047759</td>\n",
       "      <td>Tricolor</td>\n",
       "      <td>4/2/2004 0:00</td>\n",
       "      <td>3650.0</td>\n",
       "      <td>10 years old</td>\n",
       "      <td>Transfer</td>\n",
       "      <td>Neutered</td>\n",
       "      <td>Male</td>\n",
       "      <td>Normal</td>\n",
       "      <td>Dog</td>\n",
       "      <td>Dachshund</td>\n",
       "      <td>M</td>\n",
       "    </tr>\n",
       "  </tbody>\n",
       "</table>\n",
       "</div>"
      ],
      "text/plain": [
       "  animal_id         color  date_of_birth  age_days     age_years  \\\n",
       "0   A006100  Yellow/White  7/9/2007 0:00    3650.0  10 years old   \n",
       "1   A047759      Tricolor  4/2/2004 0:00    3650.0  10 years old   \n",
       "\n",
       "      outcome_type surgery_type   sex intake_condition animalType  \\\n",
       "0  Return to Owner     Neutered     M           Normal        Dog   \n",
       "1         Transfer     Neutered  Male           Normal        Dog   \n",
       "\n",
       "                  breed sex1  \n",
       "0  Spinone Italiano Mix    M  \n",
       "1             Dachshund    M  "
      ]
     },
     "execution_count": 175,
     "metadata": {},
     "output_type": "execute_result"
    }
   ],
   "source": [
    "df1.head(2)"
   ]
  },
  {
   "cell_type": "markdown",
   "metadata": {},
   "source": [
    "* Create the frequency table for 'sex1' using value_counts()"
   ]
  },
  {
   "cell_type": "code",
   "execution_count": 176,
   "metadata": {},
   "outputs": [
    {
     "data": {
      "text/plain": [
       "M    33770\n",
       "F    31389\n",
       "U     6765\n",
       "Name: sex1, dtype: int64"
      ]
     },
     "execution_count": 176,
     "metadata": {},
     "output_type": "execute_result"
    }
   ],
   "source": [
    "df1['sex1'].value_counts()"
   ]
  },
  {
   "cell_type": "markdown",
   "metadata": {},
   "source": [
    "* Drop sex column from df1 dataframe"
   ]
  },
  {
   "cell_type": "code",
   "execution_count": 177,
   "metadata": {},
   "outputs": [],
   "source": [
    "df1.drop('sex', axis= 1, inplace=True)"
   ]
  },
  {
   "cell_type": "markdown",
   "metadata": {},
   "source": [
    "* Display the first 2 rows of df1 dataframe"
   ]
  },
  {
   "cell_type": "code",
   "execution_count": 178,
   "metadata": {},
   "outputs": [
    {
     "data": {
      "text/html": [
       "<div>\n",
       "<style scoped>\n",
       "    .dataframe tbody tr th:only-of-type {\n",
       "        vertical-align: middle;\n",
       "    }\n",
       "\n",
       "    .dataframe tbody tr th {\n",
       "        vertical-align: top;\n",
       "    }\n",
       "\n",
       "    .dataframe thead th {\n",
       "        text-align: right;\n",
       "    }\n",
       "</style>\n",
       "<table border=\"1\" class=\"dataframe\">\n",
       "  <thead>\n",
       "    <tr style=\"text-align: right;\">\n",
       "      <th></th>\n",
       "      <th>animal_id</th>\n",
       "      <th>color</th>\n",
       "      <th>date_of_birth</th>\n",
       "      <th>age_days</th>\n",
       "      <th>age_years</th>\n",
       "      <th>outcome_type</th>\n",
       "      <th>surgery_type</th>\n",
       "      <th>intake_condition</th>\n",
       "      <th>animalType</th>\n",
       "      <th>breed</th>\n",
       "      <th>sex1</th>\n",
       "    </tr>\n",
       "  </thead>\n",
       "  <tbody>\n",
       "    <tr>\n",
       "      <th>0</th>\n",
       "      <td>A006100</td>\n",
       "      <td>Yellow/White</td>\n",
       "      <td>7/9/2007 0:00</td>\n",
       "      <td>3650.0</td>\n",
       "      <td>10 years old</td>\n",
       "      <td>Return to Owner</td>\n",
       "      <td>Neutered</td>\n",
       "      <td>Normal</td>\n",
       "      <td>Dog</td>\n",
       "      <td>Spinone Italiano Mix</td>\n",
       "      <td>M</td>\n",
       "    </tr>\n",
       "    <tr>\n",
       "      <th>1</th>\n",
       "      <td>A047759</td>\n",
       "      <td>Tricolor</td>\n",
       "      <td>4/2/2004 0:00</td>\n",
       "      <td>3650.0</td>\n",
       "      <td>10 years old</td>\n",
       "      <td>Transfer</td>\n",
       "      <td>Neutered</td>\n",
       "      <td>Normal</td>\n",
       "      <td>Dog</td>\n",
       "      <td>Dachshund</td>\n",
       "      <td>M</td>\n",
       "    </tr>\n",
       "  </tbody>\n",
       "</table>\n",
       "</div>"
      ],
      "text/plain": [
       "  animal_id         color  date_of_birth  age_days     age_years  \\\n",
       "0   A006100  Yellow/White  7/9/2007 0:00    3650.0  10 years old   \n",
       "1   A047759      Tricolor  4/2/2004 0:00    3650.0  10 years old   \n",
       "\n",
       "      outcome_type surgery_type intake_condition animalType  \\\n",
       "0  Return to Owner     Neutered           Normal        Dog   \n",
       "1         Transfer     Neutered           Normal        Dog   \n",
       "\n",
       "                  breed sex1  \n",
       "0  Spinone Italiano Mix    M  \n",
       "1             Dachshund    M  "
      ]
     },
     "execution_count": 178,
     "metadata": {},
     "output_type": "execute_result"
    }
   ],
   "source": [
    "df1.head(2)"
   ]
  },
  {
   "cell_type": "markdown",
   "metadata": {},
   "source": [
    "**Question 9: Extracting Numeric Data from Text**"
   ]
  },
  {
   "cell_type": "markdown",
   "metadata": {},
   "source": [
    "* Replace age_years column's value with the numeric part and convert it to **float**. Display the first 2 rows of df1.\n",
    "   * For example we replace 4 years old  with 4.0\n",
    "   \n",
    "(You should run your code once. If you run it twice it will give error. If it gives error, you should run all above cells again)"
   ]
  },
  {
   "cell_type": "code",
   "execution_count": 179,
   "metadata": {},
   "outputs": [
    {
     "data": {
      "text/html": [
       "<div>\n",
       "<style scoped>\n",
       "    .dataframe tbody tr th:only-of-type {\n",
       "        vertical-align: middle;\n",
       "    }\n",
       "\n",
       "    .dataframe tbody tr th {\n",
       "        vertical-align: top;\n",
       "    }\n",
       "\n",
       "    .dataframe thead th {\n",
       "        text-align: right;\n",
       "    }\n",
       "</style>\n",
       "<table border=\"1\" class=\"dataframe\">\n",
       "  <thead>\n",
       "    <tr style=\"text-align: right;\">\n",
       "      <th></th>\n",
       "      <th>animal_id</th>\n",
       "      <th>color</th>\n",
       "      <th>date_of_birth</th>\n",
       "      <th>age_days</th>\n",
       "      <th>age_years</th>\n",
       "      <th>outcome_type</th>\n",
       "      <th>surgery_type</th>\n",
       "      <th>intake_condition</th>\n",
       "      <th>animalType</th>\n",
       "      <th>breed</th>\n",
       "      <th>sex1</th>\n",
       "    </tr>\n",
       "  </thead>\n",
       "  <tbody>\n",
       "    <tr>\n",
       "      <th>0</th>\n",
       "      <td>A006100</td>\n",
       "      <td>Yellow/White</td>\n",
       "      <td>7/9/2007 0:00</td>\n",
       "      <td>3650.0</td>\n",
       "      <td>10.0</td>\n",
       "      <td>Return to Owner</td>\n",
       "      <td>Neutered</td>\n",
       "      <td>Normal</td>\n",
       "      <td>Dog</td>\n",
       "      <td>Spinone Italiano Mix</td>\n",
       "      <td>M</td>\n",
       "    </tr>\n",
       "    <tr>\n",
       "      <th>1</th>\n",
       "      <td>A047759</td>\n",
       "      <td>Tricolor</td>\n",
       "      <td>4/2/2004 0:00</td>\n",
       "      <td>3650.0</td>\n",
       "      <td>10.0</td>\n",
       "      <td>Transfer</td>\n",
       "      <td>Neutered</td>\n",
       "      <td>Normal</td>\n",
       "      <td>Dog</td>\n",
       "      <td>Dachshund</td>\n",
       "      <td>M</td>\n",
       "    </tr>\n",
       "  </tbody>\n",
       "</table>\n",
       "</div>"
      ],
      "text/plain": [
       "  animal_id         color  date_of_birth  age_days  age_years  \\\n",
       "0   A006100  Yellow/White  7/9/2007 0:00    3650.0       10.0   \n",
       "1   A047759      Tricolor  4/2/2004 0:00    3650.0       10.0   \n",
       "\n",
       "      outcome_type surgery_type intake_condition animalType  \\\n",
       "0  Return to Owner     Neutered           Normal        Dog   \n",
       "1         Transfer     Neutered           Normal        Dog   \n",
       "\n",
       "                  breed sex1  \n",
       "0  Spinone Italiano Mix    M  \n",
       "1             Dachshund    M  "
      ]
     },
     "execution_count": 179,
     "metadata": {},
     "output_type": "execute_result"
    }
   ],
   "source": [
    "df1['age_years'] = df1['age_years'].str.replace(' years old', '').astype(float)\n",
    "df1.head(2)"
   ]
  },
  {
   "cell_type": "markdown",
   "metadata": {},
   "source": [
    "* Calculate  average age_years for each sex in sex1 column"
   ]
  },
  {
   "cell_type": "code",
   "execution_count": 180,
   "metadata": {},
   "outputs": [
    {
     "data": {
      "text/html": [
       "<div>\n",
       "<style scoped>\n",
       "    .dataframe tbody tr th:only-of-type {\n",
       "        vertical-align: middle;\n",
       "    }\n",
       "\n",
       "    .dataframe tbody tr th {\n",
       "        vertical-align: top;\n",
       "    }\n",
       "\n",
       "    .dataframe thead th {\n",
       "        text-align: right;\n",
       "    }\n",
       "</style>\n",
       "<table border=\"1\" class=\"dataframe\">\n",
       "  <thead>\n",
       "    <tr style=\"text-align: right;\">\n",
       "      <th></th>\n",
       "      <th>age_years</th>\n",
       "    </tr>\n",
       "    <tr>\n",
       "      <th>sex1</th>\n",
       "      <th></th>\n",
       "    </tr>\n",
       "  </thead>\n",
       "  <tbody>\n",
       "    <tr>\n",
       "      <th>F</th>\n",
       "      <td>2.183371</td>\n",
       "    </tr>\n",
       "    <tr>\n",
       "      <th>M</th>\n",
       "      <td>2.272681</td>\n",
       "    </tr>\n",
       "    <tr>\n",
       "      <th>U</th>\n",
       "      <td>0.909483</td>\n",
       "    </tr>\n",
       "  </tbody>\n",
       "</table>\n",
       "</div>"
      ],
      "text/plain": [
       "      age_years\n",
       "sex1           \n",
       "F      2.183371\n",
       "M      2.272681\n",
       "U      0.909483"
      ]
     },
     "execution_count": 180,
     "metadata": {},
     "output_type": "execute_result"
    }
   ],
   "source": [
    "df2 = df1[['sex1','age_years']].copy()\n",
    "df2.groupby(['sex1']).mean()"
   ]
  },
  {
   "cell_type": "markdown",
   "metadata": {},
   "source": [
    "**Question 9: Ensuring Data make sense and replacing it with valid values if needed**\n",
    "* Read the animal_breeds.csv file into  dataframe called animal_breeds. Display the first 5 rows."
   ]
  },
  {
   "cell_type": "code",
   "execution_count": 181,
   "metadata": {},
   "outputs": [
    {
     "data": {
      "text/html": [
       "<div>\n",
       "<style scoped>\n",
       "    .dataframe tbody tr th:only-of-type {\n",
       "        vertical-align: middle;\n",
       "    }\n",
       "\n",
       "    .dataframe tbody tr th {\n",
       "        vertical-align: top;\n",
       "    }\n",
       "\n",
       "    .dataframe thead th {\n",
       "        text-align: right;\n",
       "    }\n",
       "</style>\n",
       "<table border=\"1\" class=\"dataframe\">\n",
       "  <thead>\n",
       "    <tr style=\"text-align: right;\">\n",
       "      <th></th>\n",
       "      <th>valid breeds</th>\n",
       "    </tr>\n",
       "  </thead>\n",
       "  <tbody>\n",
       "    <tr>\n",
       "      <th>0</th>\n",
       "      <td>Abyssinian Mix</td>\n",
       "    </tr>\n",
       "    <tr>\n",
       "      <th>1</th>\n",
       "      <td>Affenpinscher Mix</td>\n",
       "    </tr>\n",
       "    <tr>\n",
       "      <th>2</th>\n",
       "      <td>Afghan Hound Mix</td>\n",
       "    </tr>\n",
       "    <tr>\n",
       "      <th>3</th>\n",
       "      <td>Afghan Hound/Labrador Retriever</td>\n",
       "    </tr>\n",
       "    <tr>\n",
       "      <th>4</th>\n",
       "      <td>African Mix</td>\n",
       "    </tr>\n",
       "  </tbody>\n",
       "</table>\n",
       "</div>"
      ],
      "text/plain": [
       "                      valid breeds\n",
       "0                   Abyssinian Mix\n",
       "1                Affenpinscher Mix\n",
       "2                 Afghan Hound Mix\n",
       "3  Afghan Hound/Labrador Retriever\n",
       "4                      African Mix"
      ]
     },
     "execution_count": 181,
     "metadata": {},
     "output_type": "execute_result"
    }
   ],
   "source": [
    "import pandas as pd\n",
    "\n",
    "df = pb.read_csv('animal_breeds.csv')\n",
    "df.head()"
   ]
  },
  {
   "cell_type": "markdown",
   "metadata": {},
   "source": [
    "* Use .loc and isin method to create a new column called ValidBreed in the df1 dataframe. If the breed in the df1 dataframe is invalid, the value for ValidBreed will be 0. If the breed in the df1 dataframe is valid, the value for ValidBreed will be 1.  "
   ]
  },
  {
   "cell_type": "code",
   "execution_count": 182,
   "metadata": {
    "tags": []
   },
   "outputs": [],
   "source": [
    "df1.loc[~df1['breed'].isin(df['valid breeds']),'ValidBreed'] = 0\n",
    "df1.loc[df1['breed'].isin(df['valid breeds']),'ValidBreed'] = 1"
   ]
  },
  {
   "cell_type": "markdown",
   "metadata": {},
   "source": [
    "* Create a frequency table to display the number of valid breeds and the number of invalid breeds in df1 dataframe"
   ]
  },
  {
   "cell_type": "code",
   "execution_count": 183,
   "metadata": {},
   "outputs": [
    {
     "data": {
      "text/plain": [
       "1.0    71922\n",
       "0.0        2\n",
       "Name: ValidBreed, dtype: int64"
      ]
     },
     "execution_count": 183,
     "metadata": {},
     "output_type": "execute_result"
    }
   ],
   "source": [
    "df1['ValidBreed'].value_counts()"
   ]
  },
  {
   "cell_type": "markdown",
   "metadata": {},
   "source": [
    "* Subset the df1 dataframe to show breed column and ValidBreed column for which ValidBreed's value is 0 (the output of this code will show you the invalid breeds)"
   ]
  },
  {
   "cell_type": "code",
   "execution_count": 184,
   "metadata": {},
   "outputs": [
    {
     "data": {
      "text/html": [
       "<div>\n",
       "<style scoped>\n",
       "    .dataframe tbody tr th:only-of-type {\n",
       "        vertical-align: middle;\n",
       "    }\n",
       "\n",
       "    .dataframe tbody tr th {\n",
       "        vertical-align: top;\n",
       "    }\n",
       "\n",
       "    .dataframe thead th {\n",
       "        text-align: right;\n",
       "    }\n",
       "</style>\n",
       "<table border=\"1\" class=\"dataframe\">\n",
       "  <thead>\n",
       "    <tr style=\"text-align: right;\">\n",
       "      <th></th>\n",
       "      <th>breed</th>\n",
       "      <th>ValidBreed</th>\n",
       "    </tr>\n",
       "  </thead>\n",
       "  <tbody>\n",
       "    <tr>\n",
       "      <th>31575</th>\n",
       "      <td>Siam Mix</td>\n",
       "      <td>0.0</td>\n",
       "    </tr>\n",
       "    <tr>\n",
       "      <th>58916</th>\n",
       "      <td>French Pointer Mix</td>\n",
       "      <td>0.0</td>\n",
       "    </tr>\n",
       "  </tbody>\n",
       "</table>\n",
       "</div>"
      ],
      "text/plain": [
       "                    breed  ValidBreed\n",
       "31575            Siam Mix         0.0\n",
       "58916  French Pointer Mix         0.0"
      ]
     },
     "execution_count": 184,
     "metadata": {},
     "output_type": "execute_result"
    }
   ],
   "source": [
    "df1[['breed','ValidBreed']].loc[df1['ValidBreed'] == 0]"
   ]
  },
  {
   "cell_type": "markdown",
   "metadata": {},
   "source": [
    "* In the following type a code to **drop the rows** for which breed is 'Siam Mix' or 'French Ponter Mix'."
   ]
  },
  {
   "cell_type": "code",
   "execution_count": 185,
   "metadata": {},
   "outputs": [],
   "source": [
    "df1 = df1[df1.breed != 'Siam Mix']\n",
    "df1 = df1[df1.breed != 'French Pointer Mix']"
   ]
  },
  {
   "cell_type": "markdown",
   "metadata": {},
   "source": [
    "* To make sure you've deleted the rows with invalid breeds, subset the df1 dataframe again to show breed column and ValidBreed column for which ValidBreed's value is 0."
   ]
  },
  {
   "cell_type": "code",
   "execution_count": 186,
   "metadata": {},
   "outputs": [
    {
     "data": {
      "text/html": [
       "<div>\n",
       "<style scoped>\n",
       "    .dataframe tbody tr th:only-of-type {\n",
       "        vertical-align: middle;\n",
       "    }\n",
       "\n",
       "    .dataframe tbody tr th {\n",
       "        vertical-align: top;\n",
       "    }\n",
       "\n",
       "    .dataframe thead th {\n",
       "        text-align: right;\n",
       "    }\n",
       "</style>\n",
       "<table border=\"1\" class=\"dataframe\">\n",
       "  <thead>\n",
       "    <tr style=\"text-align: right;\">\n",
       "      <th></th>\n",
       "      <th>breed</th>\n",
       "      <th>ValidBreed</th>\n",
       "    </tr>\n",
       "  </thead>\n",
       "  <tbody>\n",
       "  </tbody>\n",
       "</table>\n",
       "</div>"
      ],
      "text/plain": [
       "Empty DataFrame\n",
       "Columns: [breed, ValidBreed]\n",
       "Index: []"
      ]
     },
     "execution_count": 186,
     "metadata": {},
     "output_type": "execute_result"
    }
   ],
   "source": [
    "df1[['breed','ValidBreed']].loc[df1['ValidBreed'] == 0]"
   ]
  },
  {
   "cell_type": "markdown",
   "metadata": {},
   "source": [
    "**Question 10:**\n",
    "\n",
    "* Convert 'date_of_birth' column's data type to date/time"
   ]
  },
  {
   "cell_type": "code",
   "execution_count": 187,
   "metadata": {},
   "outputs": [],
   "source": [
    "df1['date_of_birth'] = pd.to_datetime(df1['date_of_birth'])"
   ]
  },
  {
   "cell_type": "markdown",
   "metadata": {},
   "source": [
    "* Extract year from 'date_of_birth' column and save it to 'year_of_birth' column"
   ]
  },
  {
   "cell_type": "code",
   "execution_count": 188,
   "metadata": {},
   "outputs": [],
   "source": [
    "df1['year_of_birth']=df1['date_of_birth'].dt.year"
   ]
  },
  {
   "cell_type": "markdown",
   "metadata": {},
   "source": [
    "* Display the first 5 rows of frequency table for 'year_of_birth' column using value_counts() and head()"
   ]
  },
  {
   "cell_type": "code",
   "execution_count": 189,
   "metadata": {},
   "outputs": [
    {
     "data": {
      "text/plain": [
       "2015    13061\n",
       "2014    12977\n",
       "2016    10218\n",
       "2013     9717\n",
       "2017     6683\n",
       "Name: year_of_birth, dtype: int64"
      ]
     },
     "execution_count": 189,
     "metadata": {},
     "output_type": "execute_result"
    }
   ],
   "source": [
    "df1['year_of_birth'].value_counts().head()"
   ]
  },
  {
   "cell_type": "markdown",
   "metadata": {},
   "source": [
    "* Extract month name from 'date_of_birth' column and save it to 'month_of_birth' column"
   ]
  },
  {
   "cell_type": "code",
   "execution_count": 190,
   "metadata": {},
   "outputs": [],
   "source": [
    "df1['month_of_birth'] = df1['date_of_birth'].dt.month"
   ]
  },
  {
   "cell_type": "markdown",
   "metadata": {},
   "source": [
    "* Display the first 5 rows of frequency table for 'month_of_birth' column using value_counts() and head()"
   ]
  },
  {
   "cell_type": "code",
   "execution_count": 191,
   "metadata": {},
   "outputs": [
    {
     "data": {
      "text/plain": [
       "4    8464\n",
       "5    7411\n",
       "3    7104\n",
       "6    6122\n",
       "8    6020\n",
       "Name: month_of_birth, dtype: int64"
      ]
     },
     "execution_count": 191,
     "metadata": {},
     "output_type": "execute_result"
    }
   ],
   "source": [
    "df1['month_of_birth'].value_counts().head()"
   ]
  },
  {
   "cell_type": "markdown",
   "metadata": {},
   "source": [
    "* In the following type a code to display the number of  animals for each 'animalType'  that were born in 2015 (the ourput should show the animal types as labels and the numbers)"
   ]
  },
  {
   "cell_type": "code",
   "execution_count": 192,
   "metadata": {},
   "outputs": [
    {
     "data": {
      "text/plain": [
       "2015    13061\n",
       "Name: year_of_birth, dtype: int64"
      ]
     },
     "execution_count": 192,
     "metadata": {},
     "output_type": "execute_result"
    }
   ],
   "source": [
    "df1['year_of_birth'].loc[df1['year_of_birth']==2015].value_counts()"
   ]
  },
  {
   "cell_type": "markdown",
   "metadata": {},
   "source": [
    "* In the following type a code to display the number of Cats that were born in 2015 and their sex is F (the output should show Cat, 2015, and F as labels and the number)"
   ]
  },
  {
   "cell_type": "code",
   "execution_count": 195,
   "metadata": {},
   "outputs": [
    {
     "data": {
      "text/plain": [
       "animalType  sex1  year_of_birth\n",
       "Cat         F     2015             2764\n",
       "dtype: int64"
      ]
     },
     "execution_count": 195,
     "metadata": {},
     "output_type": "execute_result"
    }
   ],
   "source": [
    "df1[['animalType','sex1','year_of_birth']].loc[(df1['animalType'] == 'Cat') & (df1['sex1'] == 'F') & (df1['year_of_birth'] == 2015)].value_counts()"
   ]
  }
 ],
 "metadata": {
  "kernelspec": {
   "display_name": "Python 3 (ipykernel)",
   "language": "python",
   "name": "python3"
  },
  "language_info": {
   "codemirror_mode": {
    "name": "ipython",
    "version": 3
   },
   "file_extension": ".py",
   "mimetype": "text/x-python",
   "name": "python",
   "nbconvert_exporter": "python",
   "pygments_lexer": "ipython3",
   "version": "3.9.12"
  }
 },
 "nbformat": 4,
 "nbformat_minor": 4
}
